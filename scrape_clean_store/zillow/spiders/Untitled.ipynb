{
 "cells": [
  {
   "cell_type": "code",
   "execution_count": null,
   "metadata": {
    "collapsed": true
   },
   "outputs": [],
   "source": [
    "from __future__ import absolute_import\n",
    "import scrapy\n",
    "from scrapy.spider import BaseSpider\n",
    "from scrapy.selector import Selector\n",
    "from zillow.items import zillowItem\n",
    "\n",
    "\n",
    "class nzillowpider(scrapy.Spider):\n",
    "    name = \"zillow_s\"\n",
    "    allowed_domains = [\"http://www.zillow.com/\"]\n",
    "    start_urls = ['http://www.zillow.com/homes/for_sale/08540/']\n",
    "\n",
    "    def parse(self, response):\n",
    "        links = Selector(response=response).xpath('//dt/a')\n",
    "        for link in links:\n",
    "            item = zillowItem()\n",
    "            item['link'] = link.xpath('/@href').extract()\n",
    "            item['title'] = link.xpath('/title/text()').extract()\n",
    "            item['z_id'] = link.xpath('/id/text()').extract()\n",
    "            yield item\n",
    "        "
   ]
  }
 ],
 "metadata": {
  "kernelspec": {
   "display_name": "Python 2",
   "language": "python",
   "name": "python2"
  },
  "language_info": {
   "codemirror_mode": {
    "name": "ipython",
    "version": 2
   },
   "file_extension": ".py",
   "mimetype": "text/x-python",
   "name": "python",
   "nbconvert_exporter": "python",
   "pygments_lexer": "ipython2",
   "version": "2.7.11"
  }
 },
 "nbformat": 4,
 "nbformat_minor": 0
}
