{
 "cells": [
  {
   "cell_type": "code",
   "execution_count": null,
   "metadata": {
    "collapsed": true
   },
   "outputs": [],
   "source": [
    "import re\n",
    "import matplotlib\n",
    "\n",
    "importance = bst.get_fscore()\n",
    "imp = pd.DataFrame(importance.items(), columns = ['Feature','Score'])\n",
    "k = imp.iloc[:,0]\n",
    "def stringer(string1):\n",
    "    return int(re.search(r'\\d+', string1).group())\n",
    "k2 = np.array(map(stringer, k))\n",
    "names = train2.columns.values\n",
    "features = names[k2]\n",
    "imp['Score'] = imp['Score'] / imp['Score'].sum()\n",
    "imp['Feature'] = features\n",
    "imp = imp.sort_values(by = 'Score', ascending = False).reset_index(drop = True)\n",
    "\n",
    "%matplotlib inline\n",
    "ax = imp.iloc[0:15,:].plot(kind='barh', x='Feature', y='Score', legend=False, figsize = (6, 10))\n",
    "ax.invert_yaxis()"
   ]
  },
  {
   "cell_type": "code",
   "execution_count": null,
   "metadata": {
    "collapsed": true
   },
   "outputs": [],
   "source": [
    "def featureImportance(model,train,num_fea):\n",
    "    import re\n",
    "    import numpy as np\n",
    "    import matplotlib\n",
    "\n",
    "    importance = model.get_fscore()\n",
    "    imp = pd.DataFrame(importance.items(), columns = ['Feature','Score'])\n",
    "    k = imp.iloc[:,0]\n",
    "    def stringer(string1):\n",
    "        return int(re.search(r'\\d+', string1).group())\n",
    "    k2 = np.array(map(stringer, k))\n",
    "    names = train.columns.values\n",
    "    features = names[k2]\n",
    "    imp['Score'] = imp['Score'] / imp['Score'].sum()\n",
    "    imp['Feature'] = features\n",
    "    imp = imp.sort_values(by = 'Score', ascending = False).reset_index(drop = True)\n",
    "\n",
    "    %matplotlib inline\n",
    "    ax = imp.iloc[0:num_fea,:].plot(kind='barh', x='Feature', y='Score', legend=False, figsize = (6, 10))\n",
    "    return ax.invert_yaxis()"
   ]
  }
 ],
 "metadata": {
  "kernelspec": {
   "display_name": "Python 2",
   "language": "python",
   "name": "python2"
  },
  "language_info": {
   "codemirror_mode": {
    "name": "ipython",
    "version": 2
   },
   "file_extension": ".py",
   "mimetype": "text/x-python",
   "name": "python",
   "nbconvert_exporter": "python",
   "pygments_lexer": "ipython2",
   "version": "2.7.11"
  }
 },
 "nbformat": 4,
 "nbformat_minor": 0
}
