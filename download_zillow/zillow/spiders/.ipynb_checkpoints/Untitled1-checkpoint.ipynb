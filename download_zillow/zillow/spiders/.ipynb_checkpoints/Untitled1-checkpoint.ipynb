{
 "cells": [
  {
   "cell_type": "code",
   "execution_count": null,
   "metadata": {
    "collapsed": true
   },
   "outputs": [],
   "source": [
    "\n",
    "# coding: utf-8\n",
    "\n",
    "# In[ ]:\n",
    "\n",
    "from __future__ import absolute_import\n",
    "import scrapy\n",
    "from scrapy.spiders import CrawlSpider, Rule\n",
    "from scrapy.linkextractors import LinkExtractor\n",
    "from scrapy.selector import Selector\n",
    "from zillow.items import zillowItem\n",
    "\n",
    "\n",
    "class nzillowpider(CrawlSpider):\n",
    "    name = \"zillow_s\"\n",
    "    allowed_domains = [\"www.zillow.com\"]\n",
    "    start_urls = ['http://www.zillow.com/homedetails/502-Cherry-Valley-Rd-Princeton-NJ-08540/104320454_zpid']\n",
    "    x = 0\n",
    "     \"\"\"\n",
    "    rules = [\n",
    "            Rule(LinkExtractor(allow = ['/homedetails/.*']), callback = 'parse_item'),\n",
    "            Rule(LinkExtractor(allow = ['/homes/for_sale/\\d{5}.*/\\d_p/']), callback = 'parse_item', follow = True)\n",
    "    ]\n",
    "   \"\"\"\n",
    "    def parse(self, response):\n",
    "        links = Selector(response=response).xpath('//ul')\n",
    "        print 'Jamba Juice!!!!!!!!!!!!!!!!!!!!!!!!!!!!!!!!!!!!!!!!!!!!!!!!!!!!!!!!!!!!!!!!!!!!!!!!!!!!!!!!!!!!!!!!!!!!!!!!!!!!!!!!!!!!!!!!!!!!!'\n",
    "        #print links\n",
    "        for link in links:\n",
    "            #print response\n",
    "            item = zillowItem()\n",
    "            item['link'] = link.xpath('@href').extract()\n",
    "            item['title'] = link.xpath('/li').extract()\n",
    "            item['z_id'] = link.xpath('@id').extract()\n",
    "            #print item['link'], item['title']\n",
    "            yield item\n",
    "        print 'Jamba Juice!!!!!!!!!!!!!!!!!!!!!!!!!!!!!!!!!!!!!!!!!!!!!!!!!!!!!!!!!!!!!!!!!!!!!!!!!!!!!!!!!!!!!!!!!!!!!!!!!!!!!!!!!!!!!!!!!!!!!'\n",
    "    \"\"\"\n",
    "    def parse_item(self, response):\n",
    "        print response.url\n",
    "        self.x += 1\n",
    "        print self.x\n",
    "        #print 'Yeahhhhhhhhhhhhhhhhhhhhhhhhhhhhhhhhhhhhhhhhhhhhhhhhhhhhhhhhhhhhhhhhhhhhhh!!!!!!!!!!!!!!!!!!!!!!!!!!!!!!!!!!!!!!!!!!!!!!!!!!!!!!!!!!!!!!!!'\n",
    "    #def parse_item2(self, response):\n",
    "        #print response.url\"\"\""
   ]
  }
 ],
 "metadata": {
  "kernelspec": {
   "display_name": "Python 2",
   "language": "python",
   "name": "python2"
  },
  "language_info": {
   "codemirror_mode": {
    "name": "ipython",
    "version": 2
   },
   "file_extension": ".py",
   "mimetype": "text/x-python",
   "name": "python",
   "nbconvert_exporter": "python",
   "pygments_lexer": "ipython2",
   "version": "2.7.11"
  }
 },
 "nbformat": 4,
 "nbformat_minor": 0
}
